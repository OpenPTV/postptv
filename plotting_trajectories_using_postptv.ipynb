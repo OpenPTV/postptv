{
 "cells": [
  {
   "cell_type": "markdown",
   "metadata": {},
   "source": [
    "In this notebook we go through the process of reading trajectories and displaying their XY projection, as an example of how to manipulate trajectory objects. Naturally, trajectories contain 3D data, but here we only use a 2D view for simplicity.\n",
    "\n",
    "The first step is to import the necessary modules. We use Matplotlib's pyplot for simple plotting commands, and ``flowtracks.io`` is the module supplied by the PostPTV project for reading trajectories in various formats. In it, ``trajectories_ptvis()`` handles two similar formats: ``ptv_is`` is the standard  output of OpenPTV; it is a series of files with a name like ``ptv_is.10001`` where the number denotes the frame number. Each line in the file describes one particle. ``xuap`` is a similar format for trajectories, with different indexing and additional data stored for each particle."
   ]
  },
  {
   "cell_type": "code",
   "execution_count": 1,
   "metadata": {},
   "outputs": [],
   "source": [
    "# !pip install flowtracks\n",
    "# !conda install pytables --quiet"
   ]
  },
  {
   "cell_type": "code",
   "execution_count": 2,
   "metadata": {},
   "outputs": [],
   "source": [
    "from matplotlib import pyplot\n",
    "from flowtracks.io import trajectories_ptvis\n",
    "\n",
    "%matplotlib tk"
   ]
  },
  {
   "cell_type": "markdown",
   "metadata": {},
   "source": [
    "In the next step we point the reading function to the location of our files using a format string. The %d marks for the reading code the position of the frame number in the file names.  The use of the ``xuap`` format here must be explicitly stated. \n",
    "\n",
    "Note that we request only trajectories at least 5 frames long to be read. For large data sets, this saves a lot of memory in the reading process."
   ]
  },
  {
   "cell_type": "code",
   "execution_count": 3,
   "metadata": {},
   "outputs": [],
   "source": [
    "inName = r'C:\\Users\\User\\Documents\\test_ed_lab\\res\\ptv_is.%d'\n",
    "trajects = trajectories_ptvis(inName, traj_min_len=5)"
   ]
  },
  {
   "cell_type": "markdown",
   "metadata": {},
   "source": [
    "Finally, we create a figure and plot the trajectories. For each trajectory, the ``.pos()`` method returns a $(t,3)$-shaped array for $t$ frames where the trajectory is present. Other methods available include ``velocity()`` and ``accel()``."
   ]
  },
  {
   "cell_type": "code",
   "execution_count": 4,
   "metadata": {},
   "outputs": [],
   "source": [
    "pyplot.figure(figsize = (12, 10))\n",
    "\n",
    "for traj in trajects:\n",
    "\tpyplot.plot(traj.pos()[:,0], traj.pos()[:,1], '.')\n",
    "\n",
    "pyplot.show()"
   ]
  },
  {
   "cell_type": "code",
   "execution_count": 5,
   "metadata": {},
   "outputs": [],
   "source": [
    "import matplotlib.pyplot as plt\n",
    "from mpl_toolkits.mplot3d import Axes3D\n",
    "fig = plt.figure(figsize=(10,8))\n",
    "ax = fig.add_subplot(111, projection='3d')\n",
    "\n",
    "for traj in trajects:\n",
    "\tax.plot(traj.pos()[:,0], traj.pos()[:,1], traj.pos()[:,2], '.')\n",
    "\n",
    "plt.show()"
   ]
  },
  {
   "cell_type": "code",
   "execution_count": 6,
   "metadata": {},
   "outputs": [],
   "source": [
    "pyplot.figure(figsize = (12, 10))\n",
    "\n",
    "for traj in trajects:\n",
    "\tpyplot.plot(traj.pos()[:,2], traj.pos()[:,0], '.')\n",
    "\n",
    "pyplot.show()"
   ]
  },
  {
   "cell_type": "code",
   "execution_count": 7,
   "metadata": {},
   "outputs": [],
   "source": [
    "pyplot.figure(figsize = (12, 10))\n",
    "\n",
    "for traj in trajects:\n",
    "\tpyplot.plot(traj.pos()[:,2], traj.pos()[:,1], '.')\n",
    "\n",
    "pyplot.show()"
   ]
  },
  {
   "cell_type": "code",
   "execution_count": null,
   "metadata": {},
   "outputs": [],
   "source": []
  }
 ],
 "metadata": {
  "interpreter": {
   "hash": "58bdfe04865530fd727ebd74ef446b22b14f7817475d0acdd63cb0665874979e"
  },
  "kernelspec": {
   "display_name": "Python 3",
   "language": "python",
   "name": "python3"
  },
  "language_info": {
   "codemirror_mode": {
    "name": "ipython",
    "version": 3
   },
   "file_extension": ".py",
   "mimetype": "text/x-python",
   "name": "python",
   "nbconvert_exporter": "python",
   "pygments_lexer": "ipython3",
   "version": "3.6.13"
  }
 },
 "nbformat": 4,
 "nbformat_minor": 4
}
