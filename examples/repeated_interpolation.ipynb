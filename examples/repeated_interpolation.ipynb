{
 "cells": [
  {
   "cell_type": "markdown",
   "id": "2fe658f4",
   "metadata": {},
   "source": [
    "As an example of using repeated interpolation at the same place, this notebook performs a consistency-checking process, a simplified version of the method introduced by B. Lüthi [1]\n",
    "\n",
    "Our first move is to open the dual (tracers + inertial particles) scene data. If you are not familiar with the DualScene class yet, the notebook ``doc/hdf5_scene_analysis.ipynb`` has the introduction you need."
   ]
  },
  {
   "cell_type": "code",
   "execution_count": 1,
   "id": "03046b38",
   "metadata": {
    "collapsed": false,
    "jupyter": {
     "outputs_hidden": false
    }
   },
   "outputs": [
    {
     "name": "stdout",
     "output_type": "stream",
     "text": [
      "C:\\Users\\User\\Documents\\repos\\postptv\\data\n"
     ]
    }
   ],
   "source": [
    "%cd ../data\n",
    "from flowtracks.scene import read_dual_scene\n",
    "scene = read_dual_scene('../data/seq_hdf.cfg')"
   ]
  },
  {
   "cell_type": "markdown",
   "id": "5bfd0d83",
   "metadata": {},
   "source": [
    "We'll use Inverse Distance Weighting, so as not to weigh down the computation. Furthermore, we tell the interpolant to select candidate tracers within a certain radius. Inside this radius, we'll be able to take subsamples of any size, as we'll later see."
   ]
  },
  {
   "cell_type": "code",
   "execution_count": 2,
   "id": "f6136bcd",
   "metadata": {
    "collapsed": false,
    "jupyter": {
     "outputs_hidden": false
    }
   },
   "outputs": [],
   "source": [
    "from flowtracks.interpolation import Interpolant\n",
    "interp = Interpolant('inv', None, radius=0.010, param=1.5)"
   ]
  },
  {
   "cell_type": "markdown",
   "id": "ac5234b7",
   "metadata": {},
   "source": [
    "Now, let's find a nice frame and pick a particle with enough tracers around it (at least 10 in this case, so we have enough subsamples to do statistics)."
   ]
  },
  {
   "cell_type": "code",
   "execution_count": 3,
   "id": "9eef6488",
   "metadata": {
    "collapsed": false,
    "jupyter": {
     "outputs_hidden": false
    }
   },
   "outputs": [
    {
     "ename": "AttributeError",
     "evalue": "'InverseDistanceWeighter' object has no attribute 'which_neighbours'",
     "output_type": "error",
     "traceback": [
      "\u001b[1;31m---------------------------------------------------------------------------\u001b[0m",
      "\u001b[1;31mAttributeError\u001b[0m                            Traceback (most recent call last)",
      "\u001b[1;32m<ipython-input-3-b29b57ba1c33>\u001b[0m in \u001b[0;36m<module>\u001b[1;34m\u001b[0m\n\u001b[0;32m     10\u001b[0m     interp.set_scene(frame.tracers.pos(), frame.particles.pos(), \n\u001b[0;32m     11\u001b[0m         frame.tracers.velocity())\n\u001b[1;32m---> 12\u001b[1;33m     \u001b[0mneighb_base\u001b[0m \u001b[1;33m=\u001b[0m \u001b[0minterp\u001b[0m\u001b[1;33m.\u001b[0m\u001b[0mwhich_neighbours\u001b[0m\u001b[1;33m(\u001b[0m\u001b[1;33m)\u001b[0m\u001b[1;33m\u001b[0m\u001b[1;33m\u001b[0m\u001b[0m\n\u001b[0m\u001b[0;32m     13\u001b[0m \u001b[1;33m\u001b[0m\u001b[0m\n\u001b[0;32m     14\u001b[0m     \u001b[1;31m# Check that we have a particle with the desired number of tracers.\u001b[0m\u001b[1;33m\u001b[0m\u001b[1;33m\u001b[0m\u001b[1;33m\u001b[0m\u001b[0m\n",
      "\u001b[1;31mAttributeError\u001b[0m: 'InverseDistanceWeighter' object has no attribute 'which_neighbours'"
     ]
    }
   ],
   "source": [
    "import numpy as np\n",
    "\n",
    "for frame, _ in scene.iter_segments(-1): # recall that iter_segments returns two consecutive frames.\n",
    "    if len(frame.tracers) == 0:\n",
    "        continue\n",
    "    \n",
    "    # Here we start to use the repeated-interpolation machinery,\n",
    "    # By informing the interpolant of the current frame data,\n",
    "    # and then querying it about that data without having to repeat it.\n",
    "    interp.set_scene(frame.tracers.pos(), frame.particles.pos(), \n",
    "        frame.tracers.velocity())\n",
    "    neighb_base = interp.which_neighbours()\n",
    "    \n",
    "    # Check that we have a particle with the desired number of tracers.\n",
    "    candidates = neighb_base.sum(axis=1) >= 10\n",
    "    if candidates.any():\n",
    "        break"
   ]
  },
  {
   "cell_type": "markdown",
   "id": "75b060b7",
   "metadata": {},
   "source": [
    "Note that we found one already in the first frame, but that was to be expected. The loop is usually necesary when you are not just looking for one particle, but either you are doing a statistic of several particles, or you have very strict search criteria which wouldn't be matched exactly right away."
   ]
  },
  {
   "cell_type": "code",
   "execution_count": null,
   "id": "baac499b",
   "metadata": {
    "collapsed": false,
    "jupyter": {
     "outputs_hidden": false
    }
   },
   "outputs": [],
   "source": [
    "frame.particles.time()"
   ]
  },
  {
   "cell_type": "markdown",
   "id": "8f781324",
   "metadata": {},
   "source": [
    "Anyway, we have a particle. So now we can tell the interpolant that from now on, this will be the only interpolation point, by giving a mask containing only one True value."
   ]
  },
  {
   "cell_type": "code",
   "execution_count": null,
   "id": "05244a85",
   "metadata": {
    "collapsed": false,
    "jupyter": {
     "outputs_hidden": false
    }
   },
   "outputs": [],
   "source": [
    "selector = np.ones_like(candidates)\n",
    "selector[candidates.nonzero()[0][0]] = False # The first with enough tracers.\n",
    "interp.trim_points(selector)"
   ]
  },
  {
   "cell_type": "markdown",
   "id": "50825316",
   "metadata": {},
   "source": [
    "Now the gist of the method is that we go over different combinations of 4 particles out of the neighbour 10, and check the standard deviation of interpolation results, compared to their RMS."
   ]
  },
  {
   "cell_type": "code",
   "execution_count": null,
   "id": "d8ba0ced",
   "metadata": {
    "collapsed": false,
    "jupyter": {
     "outputs_hidden": false
    }
   },
   "outputs": [],
   "source": [
    "from scipy.misc import comb\n",
    "num_combs = min([50, comb(10, 4, exact=True)])\n",
    "\n",
    "# Collect loop results:\n",
    "samples = np.empty((num_combs, 3))\n",
    "\n",
    "# All combinations are generated using these arrays, based on the \n",
    "# initial full-neighbour selection.\n",
    "neighb_base = interp.which_neighbours()\n",
    "where_active = np.nonzero(neighb_base[0])[0]\n",
    "neighb_comb = np.empty_like(neighb_base)\n",
    "\n",
    "for cix in xrange(num_combs):\n",
    "    neighb_comb[...] = False\n",
    "    neighb_ix = np.random.permutation(where_active)[4]\n",
    "    neighb_comb[0, neighb_ix] = True\n",
    "\n",
    "    samples[cix] = interp.interpolate(neighb_comb)\n",
    "\n",
    "# Finally, the statistics:\n",
    "rms = np.linalg.norm(samples, axis=0) / np.sqrt(num_combs)\n",
    "rel_std = np.std(samples, axis=0)/ rms # num_parts x 3\n",
    "print \"Relative standard deviation: \" + str(rel_std)"
   ]
  },
  {
   "cell_type": "markdown",
   "id": "b681557f",
   "metadata": {},
   "source": [
    "Well, this particle seems to have relatively inconsistent fluid velocity interpolation, although in the Y coordinate prediction is more consistent than the others. Well then. Let's not get discouraged: there are many more particles in the data set, and surely by averaging over all of them, we can find the true consistency of the data set. But this is not for a short tutorial like this.\n",
    "\n",
    "##References:\n",
    "[1] B. Lüthi et al., Lagrangian multi-particle statistics, 2007, DOI:\n",
    "10.1080/14685240701522927"
   ]
  }
 ],
 "metadata": {
  "kernelspec": {
   "display_name": "Python 3",
   "language": "python",
   "name": "python3"
  },
  "language_info": {
   "codemirror_mode": {
    "name": "ipython",
    "version": 3
   },
   "file_extension": ".py",
   "mimetype": "text/x-python",
   "name": "python",
   "nbconvert_exporter": "python",
   "pygments_lexer": "ipython3",
   "version": "3.6.13"
  }
 },
 "nbformat": 4,
 "nbformat_minor": 5
}
