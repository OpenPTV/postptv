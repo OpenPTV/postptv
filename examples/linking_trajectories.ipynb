{
 "cells": [
  {
   "cell_type": "code",
   "execution_count": 1,
   "id": "e112ebbc-b023-4757-8aad-519b83a2f8dd",
   "metadata": {},
   "outputs": [],
   "source": [
    "# -*- coding: utf-8 -*-\n",
    "\"\"\"\n",
    "Problem: the candidate may already be linked. Need to register the candidate \n",
    "and update both if the candidate has a better link.\n",
    "Created on Wed Feb 22 12:08:02 2017\n",
    "@author: yosef, based on attempt by lillyverso\n",
    "\"\"\"\n",
    "\n",
    "import itertools as it, numpy as np\n",
    "import matplotlib.pyplot as plt\n",
    "%matplotlib tk\n",
    "\n",
    "from flowtracks.scene import Scene\n",
    "from flowtracks.trajectory import Trajectory"
   ]
  },
  {
   "cell_type": "code",
   "execution_count": 2,
   "id": "dc528fff-b3b0-45f8-8f4a-dc7e8dfbf04f",
   "metadata": {},
   "outputs": [],
   "source": [
    "# Unpack the param\n",
    "inName='../data/particles.h5'\n",
    "frate = 100\n",
    "scn = Scene(inName)\n",
    "# Can limit the frame range but not a must:\n",
    "# scn.set_frame_range((param.first, param.last))\n",
    "\n",
    "## Hitao linking criteria -----------------------------------------------------\n",
    "#distThresh=0.005;   \n",
    "#maxDt=1;\n",
    "#minLength=3;  "
   ]
  },
  {
   "cell_type": "code",
   "execution_count": 3,
   "id": "497098b6-6288-47b6-9bf3-7e0d9de1943a",
   "metadata": {},
   "outputs": [],
   "source": [
    "distThresh = 0.0025;   \n",
    "maxDt = 1;\n",
    "minLength = 25;       # length of elemnts in the trajs"
   ]
  },
  {
   "cell_type": "code",
   "execution_count": 4,
   "id": "f0d0b321-f576-42c5-9d39-ea38536df212",
   "metadata": {},
   "outputs": [],
   "source": [
    "# Though this won't be necessary if you don't save the short ones at all in the\n",
    "# HDF conversion.\n",
    "long_trajects = list(filter(\n",
    "    lambda trj: len(trj) > minLength, scn.iter_trajectories()))"
   ]
  },
  {
   "cell_type": "code",
   "execution_count": null,
   "id": "f1430c83-8a65-4724-976f-ec312da833f7",
   "metadata": {},
   "outputs": [],
   "source": []
  },
  {
   "cell_type": "code",
   "execution_count": 5,
   "id": "57d355e6-6eb9-4fb0-9cff-9b4c633764e9",
   "metadata": {},
   "outputs": [
    {
     "name": "stdout",
     "output_type": "stream",
     "text": [
      "candidates: {3: (244, 0.0019085305866032112), 11: (None, 0.0025), 13: (None, 0.0025), 15: (335, 0.000942837207581451), 21: (None, 0.0025), 22: (255, 0.002078514854409274), 26: (248, 0.0005784755828900569), 27: (None, 0.0025), 29: (None, 0.0025), 32: (None, 0.0025), 34: (None, 0.0025), 36: (None, 0.0025), 37: (None, 0.0025), 39: (None, 0.0025), 45: (None, 0.0025), 59: (None, 0.0025), 61: (None, 0.0025), 62: (None, 0.0025), 63: (None, 0.0025), 93: (226, 0.0006415902118954103), 103: (None, 0.0025), 217: (None, 0.0025), 219: (None, 0.0025), 222: (None, 0.0025), 226: (None, 0.0025), 229: (None, 0.0025), 230: (None, 0.0025), 232: (None, 0.0025), 233: (None, 0.0025), 234: (None, 0.0025), 236: (None, 0.0025), 237: (None, 0.0025), 239: (None, 0.0025), 241: (None, 0.0025), 242: (None, 0.0025), 244: (None, 0.0025), 245: (None, 0.0025), 248: (370, 0.00031021927728624115), 249: (None, 0.0025), 250: (None, 0.0025), 252: (None, 0.0025), 255: (None, 0.0025), 256: (None, 0.0025), 263: (None, 0.0025), 265: (511, 0.0018239531243976629), 266: (None, 0.0025), 274: (None, 0.0025), 275: (None, 0.0025), 277: (None, 0.0025), 281: (None, 0.0025), 287: (None, 0.0025), 298: (None, 0.0025), 299: (None, 0.0025), 303: (None, 0.0025), 304: (None, 0.0025), 315: (None, 0.0025), 322: (None, 0.0025), 323: (None, 0.0025), 327: (None, 0.0025), 329: (None, 0.0025), 335: (None, 0.0025), 336: (None, 0.0025), 345: (None, 0.0025), 350: (None, 0.0025), 351: (None, 0.0025), 366: (None, 0.0025), 370: (None, 0.0025), 371: (None, 0.0025), 373: (None, 0.0025), 382: (None, 0.0025), 385: (None, 0.0025), 395: (None, 0.0025), 402: (557, 0.00044851532861207773), 404: (None, 0.0025), 406: (None, 0.0025), 414: (None, 0.0025), 416: (None, 0.0025), 427: (None, 0.0025), 429: (None, 0.0025), 431: (None, 0.0025), 432: (None, 0.0025), 434: (None, 0.0025), 437: (None, 0.0025), 450: (None, 0.0025), 453: (None, 0.0025), 454: (None, 0.0025), 459: (None, 0.0025), 460: (None, 0.0025), 464: (None, 0.0025), 467: (None, 0.0025), 475: (None, 0.0025), 483: (None, 0.0025), 485: (None, 0.0025), 491: (None, 0.0025), 502: (None, 0.0025), 512: (None, 0.0025), 514: (None, 0.0025), 527: (None, 0.0025)}\n"
     ]
    }
   ],
   "source": [
    "# Keyed by trajid, value is a tuple (id, dist) where id is the best candidate \n",
    "# trajectory for linking, and dist is the average-distance measure for this\n",
    "# pair (the measure to beat)\n",
    "links = {}\n",
    "back_links = {}\n",
    "\n",
    "for trj1, trj2 in it.combinations(long_trajects, 2):\n",
    "    \n",
    "    dt = (trj2.time(0) - trj1.time(-1))/frate\n",
    "    if not (0 < dt <= maxDt):\n",
    "        continue\n",
    "    # print(trj1, trj2, dt)\n",
    "    \n",
    "    master_id = trj1.trajid()\n",
    "    slave_id = trj2.trajid()\n",
    "    links.setdefault(master_id, (None, distThresh))\n",
    "    back_links.setdefault(slave_id, (None, distThresh))\n",
    "    min_dist = min(links[master_id][1], back_links[slave_id][1])\n",
    "    \n",
    "    # Continue trj1 forward one time interval, and trj2 backward one interval.\n",
    "    # If the evarage distance between each predicted point and the other traj's\n",
    "    # endpoint meets the criteria - connect.\n",
    "    predicted_forward = trj1.pos(-1) + dt*trj1.velocity(-1)\n",
    "    predicted_backward = trj2.pos(0) - dt*trj2.velocity(0)\n",
    "    dist_forward = np.linalg.norm(predicted_forward - trj2.pos(0))\n",
    "    dist_backward = np.linalg.norm(predicted_backward - trj1.pos(-1))\n",
    "    \n",
    "    # Possible register candidate:\n",
    "    avg_dist = (dist_forward + dist_backward)/2.\n",
    "    if avg_dist < min_dist:\n",
    "        old_link = back_links[slave_id][0]\n",
    "        if old_link is not None:\n",
    "            links[old_link] = (None, distThresh)\n",
    "        links[master_id] = (slave_id, avg_dist)\n",
    "        back_links[slave_id] = (master_id, avg_dist)\n",
    " \n",
    "print(f\"candidates: {links}\")"
   ]
  },
  {
   "cell_type": "code",
   "execution_count": 6,
   "id": "1135b009-3886-4698-a226-9908bbefa0bc",
   "metadata": {},
   "outputs": [],
   "source": [
    "# Weld the final best candidates.\n",
    "out_trajects = []\n",
    "used_trids = set() # don't repeat taken candidates as masters.\n",
    "for trid, cand in links.items():\n",
    "    if trid in used_trids:\n",
    "        continue\n",
    "    \n",
    "    trj_weld = scn.trajectory_by_id(trid)\n",
    "    while cand[0] is not None:\n",
    "        used_trids.add(cand[0])\n",
    "        trj1 = trj_weld\n",
    "        trj2 = scn.trajectory_by_id(cand[0])\n",
    "        trj_weld = Trajectory(\n",
    "            np.vstack((trj1.pos(), trj2.pos())),\n",
    "            np.vstack((trj1.velocity(), trj2.velocity())),\n",
    "            trajid=trj1.trajid(),\n",
    "            time=np.hstack((trj1.time(), trj2.time())),\n",
    "            accel=np.vstack((trj1.accel(), trj2.accel())),\n",
    "        )\n",
    "        \n",
    "        if cand[0] not in links:\n",
    "            break\n",
    "        cand = links[cand[0]]\n",
    "        \n",
    "    out_trajects.append(trj_weld)"
   ]
  },
  {
   "cell_type": "code",
   "execution_count": 7,
   "id": "a8cf821d-b287-464b-8f0f-c7a7cd9301e6",
   "metadata": {},
   "outputs": [],
   "source": [
    "# Check wheter we link correctly the trajs\n",
    "# plot the trajs\n",
    "# Check wheter we link correctly the trajs\n",
    "# plot the trajs\n",
    "fig = plt.figure(figsize=(7,7))\n",
    "for trj in long_trajects:\n",
    "    pos = trj.pos()\n",
    "    plt.plot(pos[:,0], pos[:,1],'-')\n",
    "\n",
    "# plt.show()\n",
    "\n",
    "# fig = plt.figure(figsize=(7,7))\n",
    "for trj in out_trajects:\n",
    "    pos = trj.pos()\n",
    "    plt.plot(pos[:,0], pos[:,1],'--')\n",
    "\n",
    "plt.show()"
   ]
  },
  {
   "cell_type": "code",
   "execution_count": null,
   "id": "4705bdef-c2dc-428f-8d6c-f8c12ef5f713",
   "metadata": {},
   "outputs": [],
   "source": []
  }
 ],
 "metadata": {
  "kernelspec": {
   "display_name": "Python 3 (ipykernel)",
   "language": "python",
   "name": "python3"
  },
  "language_info": {
   "codemirror_mode": {
    "name": "ipython",
    "version": 3
   },
   "file_extension": ".py",
   "mimetype": "text/x-python",
   "name": "python",
   "nbconvert_exporter": "python",
   "pygments_lexer": "ipython3",
   "version": "3.11.3"
  }
 },
 "nbformat": 4,
 "nbformat_minor": 5
}
